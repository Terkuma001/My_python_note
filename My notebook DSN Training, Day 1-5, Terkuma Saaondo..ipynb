{
 "cells": [
  {
   "cell_type": "code",
   "execution_count": 1,
   "id": "d817ba5f",
   "metadata": {},
   "outputs": [],
   "source": [
    "# Variables and Data types in python"
   ]
  },
  {
   "cell_type": "code",
   "execution_count": 2,
   "id": "89762232",
   "metadata": {},
   "outputs": [
    {
     "data": {
      "text/plain": [
       "100"
      ]
     },
     "execution_count": 2,
     "metadata": {},
     "output_type": "execute_result"
    }
   ],
   "source": [
    "100"
   ]
  },
  {
   "cell_type": "code",
   "execution_count": 3,
   "id": "89d4f372",
   "metadata": {},
   "outputs": [
    {
     "data": {
      "text/plain": [
       "int"
      ]
     },
     "execution_count": 3,
     "metadata": {},
     "output_type": "execute_result"
    }
   ],
   "source": [
    "type(100)"
   ]
  },
  {
   "cell_type": "code",
   "execution_count": 4,
   "id": "3a985ec1",
   "metadata": {},
   "outputs": [
    {
     "data": {
      "text/plain": [
       "1.2"
      ]
     },
     "execution_count": 4,
     "metadata": {},
     "output_type": "execute_result"
    }
   ],
   "source": [
    "1.2"
   ]
  },
  {
   "cell_type": "code",
   "execution_count": 5,
   "id": "80b90621",
   "metadata": {},
   "outputs": [
    {
     "data": {
      "text/plain": [
       "float"
      ]
     },
     "execution_count": 5,
     "metadata": {},
     "output_type": "execute_result"
    }
   ],
   "source": [
    "type(1.2)"
   ]
  },
  {
   "cell_type": "code",
   "execution_count": 6,
   "id": "70051060",
   "metadata": {},
   "outputs": [
    {
     "data": {
      "text/plain": [
       "float"
      ]
     },
     "execution_count": 6,
     "metadata": {},
     "output_type": "execute_result"
    }
   ],
   "source": [
    "type(100.00)"
   ]
  },
  {
   "cell_type": "code",
   "execution_count": 7,
   "id": "c43338c7",
   "metadata": {},
   "outputs": [
    {
     "data": {
      "text/plain": [
       "str"
      ]
     },
     "execution_count": 7,
     "metadata": {},
     "output_type": "execute_result"
    }
   ],
   "source": [
    "type(\"Hello word\")"
   ]
  },
  {
   "cell_type": "code",
   "execution_count": 8,
   "id": "368b1350",
   "metadata": {},
   "outputs": [],
   "source": [
    "# Assigning variable"
   ]
  },
  {
   "cell_type": "code",
   "execution_count": 9,
   "id": "9bfe805d",
   "metadata": {},
   "outputs": [],
   "source": [
    "# A variable is a place holder or a container that holds value, it can also be change."
   ]
  },
  {
   "cell_type": "code",
   "execution_count": 10,
   "id": "239e10bd",
   "metadata": {},
   "outputs": [
    {
     "name": "stdout",
     "output_type": "stream",
     "text": [
      "40\n"
     ]
    }
   ],
   "source": [
    "a = 40\n",
    "print(a)"
   ]
  },
  {
   "cell_type": "code",
   "execution_count": 11,
   "id": "8d08b6df",
   "metadata": {},
   "outputs": [
    {
     "data": {
      "text/plain": [
       "int"
      ]
     },
     "execution_count": 11,
     "metadata": {},
     "output_type": "execute_result"
    }
   ],
   "source": [
    "type(a)"
   ]
  },
  {
   "cell_type": "code",
   "execution_count": 12,
   "id": "ff4f8d56",
   "metadata": {},
   "outputs": [
    {
     "data": {
      "text/plain": [
       "43"
      ]
     },
     "execution_count": 12,
     "metadata": {},
     "output_type": "execute_result"
    }
   ],
   "source": [
    "a+3"
   ]
  },
  {
   "cell_type": "code",
   "execution_count": 13,
   "id": "6c4d67c9",
   "metadata": {},
   "outputs": [],
   "source": [
    "# Reassignment\n",
    "a = 1000\n",
    "b = 5"
   ]
  },
  {
   "cell_type": "code",
   "execution_count": 14,
   "id": "86ba1cc7",
   "metadata": {},
   "outputs": [
    {
     "data": {
      "text/plain": [
       "1005"
      ]
     },
     "execution_count": 14,
     "metadata": {},
     "output_type": "execute_result"
    }
   ],
   "source": [
    "a + b"
   ]
  },
  {
   "cell_type": "code",
   "execution_count": 15,
   "id": "592cd4e5",
   "metadata": {},
   "outputs": [],
   "source": [
    "a = a + a"
   ]
  },
  {
   "cell_type": "code",
   "execution_count": 16,
   "id": "e0153254",
   "metadata": {},
   "outputs": [
    {
     "data": {
      "text/plain": [
       "2000"
      ]
     },
     "execution_count": 16,
     "metadata": {},
     "output_type": "execute_result"
    }
   ],
   "source": [
    "a"
   ]
  },
  {
   "cell_type": "code",
   "execution_count": 17,
   "id": "32e4a38e",
   "metadata": {},
   "outputs": [],
   "source": [
    "y = \"John James\""
   ]
  },
  {
   "cell_type": "code",
   "execution_count": 18,
   "id": "c526eb29",
   "metadata": {},
   "outputs": [
    {
     "name": "stdout",
     "output_type": "stream",
     "text": [
      "John James\n"
     ]
    }
   ],
   "source": [
    "print(y)"
   ]
  },
  {
   "cell_type": "code",
   "execution_count": 19,
   "id": "87b763ac",
   "metadata": {},
   "outputs": [],
   "source": [
    "u = \" is my friend\""
   ]
  },
  {
   "cell_type": "code",
   "execution_count": 20,
   "id": "6ac6dead",
   "metadata": {},
   "outputs": [
    {
     "name": "stdout",
     "output_type": "stream",
     "text": [
      "John James is my friend\n"
     ]
    }
   ],
   "source": [
    "print(y+u)"
   ]
  },
  {
   "cell_type": "code",
   "execution_count": 21,
   "id": "83bc9a22",
   "metadata": {},
   "outputs": [
    {
     "name": "stdout",
     "output_type": "stream",
     "text": [
      "I and John James will be travelling tommorow\n"
     ]
    }
   ],
   "source": [
    "print(\"I and \" + y + \" will be travelling tommorow\")"
   ]
  },
  {
   "cell_type": "code",
   "execution_count": 22,
   "id": "c2eab497",
   "metadata": {},
   "outputs": [],
   "source": [
    "# Creating Strings"
   ]
  },
  {
   "cell_type": "code",
   "execution_count": 23,
   "id": "563c5704",
   "metadata": {},
   "outputs": [],
   "source": [
    "# Single or double quotes are okay\n",
    "T = \"Hello this is my first string\""
   ]
  },
  {
   "cell_type": "code",
   "execution_count": 24,
   "id": "d9224dbc",
   "metadata": {},
   "outputs": [
    {
     "data": {
      "text/plain": [
       "str"
      ]
     },
     "execution_count": 24,
     "metadata": {},
     "output_type": "execute_result"
    }
   ],
   "source": [
    "type(T)"
   ]
  },
  {
   "cell_type": "code",
   "execution_count": 25,
   "id": "17e7581d",
   "metadata": {},
   "outputs": [
    {
     "name": "stdout",
     "output_type": "stream",
     "text": [
      "Here is an example of using double qoute to assign a multiline variable to a variable do you get it.\n"
     ]
    }
   ],
   "source": [
    "a = 'Here is an example of using double qoute to assign a multiline variable to a variable do you get it.'\n",
    "print(a)"
   ]
  },
  {
   "cell_type": "code",
   "execution_count": 26,
   "id": "d7105259",
   "metadata": {},
   "outputs": [],
   "source": [
    "# you can loop through a string it is ordered and in a sequence, you can loop"
   ]
  },
  {
   "cell_type": "code",
   "execution_count": 27,
   "id": "518e792e",
   "metadata": {},
   "outputs": [
    {
     "name": "stdout",
     "output_type": "stream",
     "text": [
      "A\n",
      "I\n",
      " \n",
      "E\n",
      "v\n",
      "e\n",
      "r\n",
      "d\n",
      "a\n",
      "y\n"
     ]
    }
   ],
   "source": [
    "for x in 'AI Everday':\n",
    "    print(x)"
   ]
  },
  {
   "cell_type": "code",
   "execution_count": 28,
   "id": "667ce9c3",
   "metadata": {},
   "outputs": [],
   "source": [
    "user_name = \"Newbie\"\n",
    "password = 12345\n",
    "dob=12"
   ]
  },
  {
   "cell_type": "code",
   "execution_count": 29,
   "id": "7eb876c2",
   "metadata": {},
   "outputs": [
    {
     "name": "stdout",
     "output_type": "stream",
     "text": [
      "welcome Newbie and your password is 12345 and DOB 12\n"
     ]
    }
   ],
   "source": [
    "print(\"welcome {} and your password is {} and DOB {}\".format(user_name, password,dob))"
   ]
  },
  {
   "cell_type": "code",
   "execution_count": 30,
   "id": "2bb1df76",
   "metadata": {},
   "outputs": [],
   "source": [
    "action = 'learn'"
   ]
  },
  {
   "cell_type": "code",
   "execution_count": 31,
   "id": "62b186fe",
   "metadata": {},
   "outputs": [
    {
     "name": "stdout",
     "output_type": "stream",
     "text": [
      "The Newbie needs to learn\n"
     ]
    }
   ],
   "source": [
    "print(\"The {} needs to {}\".format(user_name,action))"
   ]
  },
  {
   "cell_type": "code",
   "execution_count": 32,
   "id": "14fda4e3",
   "metadata": {},
   "outputs": [
    {
     "name": "stdout",
     "output_type": "stream",
     "text": [
      "The learn needs to Newbie\n"
     ]
    }
   ],
   "source": [
    "print(\"The {b} needs to {a}\".format(a=user_name,b=action))"
   ]
  },
  {
   "cell_type": "code",
   "execution_count": 33,
   "id": "9a2549ea",
   "metadata": {},
   "outputs": [],
   "source": [
    "# Formating Numbers"
   ]
  },
  {
   "cell_type": "code",
   "execution_count": 34,
   "id": "1734b65f",
   "metadata": {},
   "outputs": [
    {
     "name": "stdout",
     "output_type": "stream",
     "text": [
      "The number is: 245.9083\n"
     ]
    }
   ],
   "source": [
    "num = 245.9083\n",
    "print(\"The number is: {}\".format(num))"
   ]
  },
  {
   "cell_type": "code",
   "execution_count": 35,
   "id": "105591ac",
   "metadata": {},
   "outputs": [
    {
     "name": "stdout",
     "output_type": "stream",
     "text": [
      "The code is: 245.9\n"
     ]
    }
   ],
   "source": [
    "print(\"The code is: {:.1f}\".format(num))"
   ]
  },
  {
   "cell_type": "code",
   "execution_count": 36,
   "id": "3929df08",
   "metadata": {},
   "outputs": [
    {
     "name": "stdout",
     "output_type": "stream",
     "text": [
      "The code is: 245.91\n"
     ]
    }
   ],
   "source": [
    "print(\"The code is: {:.2f}\".format(num))"
   ]
  },
  {
   "cell_type": "code",
   "execution_count": 37,
   "id": "1e214b51",
   "metadata": {},
   "outputs": [
    {
     "name": "stdout",
     "output_type": "stream",
     "text": [
      "The code is: 245.908\n"
     ]
    }
   ],
   "source": [
    "print(\"The code is: {:.3f}\".format(num))"
   ]
  },
  {
   "cell_type": "code",
   "execution_count": 38,
   "id": "fcf873b4",
   "metadata": {},
   "outputs": [
    {
     "name": "stdout",
     "output_type": "stream",
     "text": [
      "The code is: 245.9083\n"
     ]
    }
   ],
   "source": [
    "print(\"The code is: {:.4f}\".format(num))"
   ]
  },
  {
   "cell_type": "code",
   "execution_count": 39,
   "id": "0f774d12",
   "metadata": {},
   "outputs": [],
   "source": [
    "# Variables and data types"
   ]
  },
  {
   "cell_type": "code",
   "execution_count": 40,
   "id": "70fbb1df",
   "metadata": {},
   "outputs": [],
   "source": [
    "user_name = \"Terkuma001\"\n",
    "pass_word = 12354\n",
    "age = 23"
   ]
  },
  {
   "cell_type": "code",
   "execution_count": 41,
   "id": "6c1e5697",
   "metadata": {},
   "outputs": [
    {
     "name": "stdout",
     "output_type": "stream",
     "text": [
      "You are welcome Terkuma001 your pass word is 12354 you are 23 years old\n"
     ]
    }
   ],
   "source": [
    "print(\"You are welcome {} your pass word is {} you are {} years old\".format(user_name, pass_word, age))"
   ]
  },
  {
   "cell_type": "code",
   "execution_count": 42,
   "id": "3bed782b",
   "metadata": {},
   "outputs": [],
   "source": [
    "# Slice out \"ext and we are going\""
   ]
  },
  {
   "cell_type": "code",
   "execution_count": 43,
   "id": "740b7629",
   "metadata": {},
   "outputs": [],
   "source": [
    "test = \"This is a really long place of text and we are going use it for practice\""
   ]
  },
  {
   "cell_type": "code",
   "execution_count": 44,
   "id": "96ab5424",
   "metadata": {},
   "outputs": [
    {
     "data": {
      "text/plain": [
       "'THIS IS A REALLY LONG PLACE OF TEXT AND WE ARE GOING USE IT FOR PRACTICE'"
      ]
     },
     "execution_count": 44,
     "metadata": {},
     "output_type": "execute_result"
    }
   ],
   "source": [
    "test.upper()"
   ]
  },
  {
   "cell_type": "code",
   "execution_count": 45,
   "id": "dce77708",
   "metadata": {},
   "outputs": [
    {
     "data": {
      "text/plain": [
       "['This',\n",
       " 'is',\n",
       " 'a',\n",
       " 'really',\n",
       " 'long',\n",
       " 'place',\n",
       " 'of',\n",
       " 'text',\n",
       " 'and',\n",
       " 'we',\n",
       " 'are',\n",
       " 'going',\n",
       " 'use',\n",
       " 'it',\n",
       " 'for',\n",
       " 'practice']"
      ]
     },
     "execution_count": 45,
     "metadata": {},
     "output_type": "execute_result"
    }
   ],
   "source": [
    "test.split()"
   ]
  },
  {
   "cell_type": "code",
   "execution_count": 46,
   "id": "b5ac3246",
   "metadata": {},
   "outputs": [
    {
     "data": {
      "text/plain": [
       "'ext and we are going'"
      ]
     },
     "execution_count": 46,
     "metadata": {},
     "output_type": "execute_result"
    }
   ],
   "source": [
    "test[32:-20]"
   ]
  },
  {
   "cell_type": "code",
   "execution_count": 47,
   "id": "d809a192",
   "metadata": {},
   "outputs": [
    {
     "data": {
      "text/plain": [
       "'ing use it fo'"
      ]
     },
     "execution_count": 47,
     "metadata": {},
     "output_type": "execute_result"
    }
   ],
   "source": [
    "test[49:-10]"
   ]
  },
  {
   "cell_type": "code",
   "execution_count": 48,
   "id": "2d7e1aac",
   "metadata": {},
   "outputs": [],
   "source": [
    "# Data types"
   ]
  },
  {
   "cell_type": "code",
   "execution_count": 49,
   "id": "2c4cc09d",
   "metadata": {},
   "outputs": [
    {
     "data": {
      "text/plain": [
       "NoneType"
      ]
     },
     "execution_count": 49,
     "metadata": {},
     "output_type": "execute_result"
    }
   ],
   "source": [
    "c = None\n",
    "type(c)"
   ]
  },
  {
   "cell_type": "code",
   "execution_count": 50,
   "id": "9689c8c8",
   "metadata": {},
   "outputs": [],
   "source": [
    "personal_dict = {\"name\": \"Terkuma Saaondo\",\n",
    "                \"email address\": \"saaondoterkuma@gmail.com\",\n",
    "                 \"house address\": \"Gbagelape Phase 2 Opposite Aso C Market Juntion\",\n",
    "                \"Phone Number\": \"08054182705\"}"
   ]
  },
  {
   "cell_type": "code",
   "execution_count": 51,
   "id": "955ab90c",
   "metadata": {},
   "outputs": [
    {
     "data": {
      "text/plain": [
       "{'name': 'Terkuma Saaondo',\n",
       " 'email address': 'saaondoterkuma@gmail.com',\n",
       " 'house address': 'Gbagelape Phase 2 Opposite Aso C Market Juntion',\n",
       " 'Phone Number': '08054182705'}"
      ]
     },
     "execution_count": 51,
     "metadata": {},
     "output_type": "execute_result"
    }
   ],
   "source": [
    "personal_dict"
   ]
  },
  {
   "cell_type": "code",
   "execution_count": 52,
   "id": "33620976",
   "metadata": {},
   "outputs": [
    {
     "data": {
      "text/plain": [
       "'Terkuma Saaondo'"
      ]
     },
     "execution_count": 52,
     "metadata": {},
     "output_type": "execute_result"
    }
   ],
   "source": [
    "personal_dict[\"name\"]"
   ]
  },
  {
   "cell_type": "code",
   "execution_count": 53,
   "id": "24314e41",
   "metadata": {},
   "outputs": [
    {
     "data": {
      "text/plain": [
       "'saaondoterkuma@gmail.com'"
      ]
     },
     "execution_count": 53,
     "metadata": {},
     "output_type": "execute_result"
    }
   ],
   "source": [
    "personal_dict[\"email address\"]"
   ]
  },
  {
   "cell_type": "code",
   "execution_count": 54,
   "id": "7addee9c",
   "metadata": {},
   "outputs": [
    {
     "data": {
      "text/plain": [
       "'08054182705'"
      ]
     },
     "execution_count": 54,
     "metadata": {},
     "output_type": "execute_result"
    }
   ],
   "source": [
    "personal_dict[\"Phone Number\"]"
   ]
  },
  {
   "cell_type": "code",
   "execution_count": 55,
   "id": "34aa17ce",
   "metadata": {},
   "outputs": [],
   "source": [
    "personal_dict[\"Age\"] = \"34\""
   ]
  },
  {
   "cell_type": "code",
   "execution_count": 56,
   "id": "3543c9fb",
   "metadata": {
    "scrolled": true
   },
   "outputs": [
    {
     "data": {
      "text/plain": [
       "{'name': 'Terkuma Saaondo',\n",
       " 'email address': 'saaondoterkuma@gmail.com',\n",
       " 'house address': 'Gbagelape Phase 2 Opposite Aso C Market Juntion',\n",
       " 'Phone Number': '08054182705',\n",
       " 'Age': '34'}"
      ]
     },
     "execution_count": 56,
     "metadata": {},
     "output_type": "execute_result"
    }
   ],
   "source": [
    "personal_dict"
   ]
  },
  {
   "cell_type": "code",
   "execution_count": 57,
   "id": "f23c2136",
   "metadata": {},
   "outputs": [],
   "source": [
    "personal_dict[\"Nationality\"] = \"Nigerian\"\n",
    "personal_dict[\"State of Origin\"] = \"Benue\"\n",
    "personal_dict[\"State of residence\"] = \"FCT\""
   ]
  },
  {
   "cell_type": "code",
   "execution_count": 58,
   "id": "02ccf831",
   "metadata": {},
   "outputs": [
    {
     "data": {
      "text/plain": [
       "{'name': 'Terkuma Saaondo',\n",
       " 'email address': 'saaondoterkuma@gmail.com',\n",
       " 'house address': 'Gbagelape Phase 2 Opposite Aso C Market Juntion',\n",
       " 'Phone Number': '08054182705',\n",
       " 'Age': '34',\n",
       " 'Nationality': 'Nigerian',\n",
       " 'State of Origin': 'Benue',\n",
       " 'State of residence': 'FCT'}"
      ]
     },
     "execution_count": 58,
     "metadata": {},
     "output_type": "execute_result"
    }
   ],
   "source": [
    "personal_dict"
   ]
  },
  {
   "cell_type": "code",
   "execution_count": 59,
   "id": "2dd125dc",
   "metadata": {},
   "outputs": [],
   "source": [
    "personal_dict[\"Age\"] = 34"
   ]
  },
  {
   "cell_type": "code",
   "execution_count": 60,
   "id": "701afdeb",
   "metadata": {},
   "outputs": [
    {
     "data": {
      "text/plain": [
       "{'name': 'Terkuma Saaondo',\n",
       " 'email address': 'saaondoterkuma@gmail.com',\n",
       " 'house address': 'Gbagelape Phase 2 Opposite Aso C Market Juntion',\n",
       " 'Phone Number': '08054182705',\n",
       " 'Age': 34,\n",
       " 'Nationality': 'Nigerian',\n",
       " 'State of Origin': 'Benue',\n",
       " 'State of residence': 'FCT'}"
      ]
     },
     "execution_count": 60,
     "metadata": {},
     "output_type": "execute_result"
    }
   ],
   "source": [
    "personal_dict"
   ]
  },
  {
   "cell_type": "code",
   "execution_count": 61,
   "id": "3abc15a7",
   "metadata": {},
   "outputs": [],
   "source": [
    "d = {\"k1\":10,\n",
    "    \"K2\": \"stringy\",\n",
    "    \"k3\": [1,2,3,], \n",
    "    \"k4\": {\"inside_key\":[20,30,40, {\"keyinside\": [60,20, \"thirty\"]}]}}"
   ]
  },
  {
   "cell_type": "code",
   "execution_count": 62,
   "id": "75f2170e",
   "metadata": {},
   "outputs": [
    {
     "data": {
      "text/plain": [
       "{'k1': 10,\n",
       " 'K2': 'stringy',\n",
       " 'k3': [1, 2, 3],\n",
       " 'k4': {'inside_key': [20, 30, 40, {'keyinside': [60, 20, 'thirty']}]}}"
      ]
     },
     "execution_count": 62,
     "metadata": {},
     "output_type": "execute_result"
    }
   ],
   "source": [
    "d"
   ]
  },
  {
   "cell_type": "code",
   "execution_count": 63,
   "id": "96d07ef6",
   "metadata": {},
   "outputs": [
    {
     "data": {
      "text/plain": [
       "[1, 2, 3]"
      ]
     },
     "execution_count": 63,
     "metadata": {},
     "output_type": "execute_result"
    }
   ],
   "source": [
    "d[\"k3\"]"
   ]
  },
  {
   "cell_type": "code",
   "execution_count": 64,
   "id": "91661352",
   "metadata": {},
   "outputs": [
    {
     "data": {
      "text/plain": [
       "{'inside_key': [20, 30, 40, {'keyinside': [60, 20, 'thirty']}]}"
      ]
     },
     "execution_count": 64,
     "metadata": {},
     "output_type": "execute_result"
    }
   ],
   "source": [
    "d[\"k4\"]"
   ]
  },
  {
   "cell_type": "code",
   "execution_count": 65,
   "id": "2f49ea1e",
   "metadata": {},
   "outputs": [
    {
     "data": {
      "text/plain": [
       "[20, 30, 40, {'keyinside': [60, 20, 'thirty']}]"
      ]
     },
     "execution_count": 65,
     "metadata": {},
     "output_type": "execute_result"
    }
   ],
   "source": [
    "d[\"k4\"][\"inside_key\"]"
   ]
  },
  {
   "cell_type": "code",
   "execution_count": 66,
   "id": "6c6f9050",
   "metadata": {},
   "outputs": [
    {
     "data": {
      "text/plain": [
       "[60, 20, 'thirty']"
      ]
     },
     "execution_count": 66,
     "metadata": {},
     "output_type": "execute_result"
    }
   ],
   "source": [
    "d[\"k4\"][\"inside_key\"][3][\"keyinside\"]"
   ]
  },
  {
   "cell_type": "code",
   "execution_count": 67,
   "id": "e301d997",
   "metadata": {},
   "outputs": [
    {
     "data": {
      "text/plain": [
       "20"
      ]
     },
     "execution_count": 67,
     "metadata": {},
     "output_type": "execute_result"
    }
   ],
   "source": [
    "d[\"k4\"][\"inside_key\"][3][\"keyinside\"][1]"
   ]
  },
  {
   "cell_type": "code",
   "execution_count": 68,
   "id": "dd0c9700",
   "metadata": {},
   "outputs": [
    {
     "data": {
      "text/plain": [
       "[20, 'thirty']"
      ]
     },
     "execution_count": 68,
     "metadata": {},
     "output_type": "execute_result"
    }
   ],
   "source": [
    "d[\"k4\"][\"inside_key\"][3][\"keyinside\"][1:3]"
   ]
  },
  {
   "cell_type": "code",
   "execution_count": 69,
   "id": "6e0a1e8c",
   "metadata": {},
   "outputs": [],
   "source": [
    "# methods "
   ]
  },
  {
   "cell_type": "code",
   "execution_count": 70,
   "id": "74466b11",
   "metadata": {},
   "outputs": [],
   "source": [
    "short_names = {\"AAU\": \"Ambrose Alli University\",\n",
    "              \"OAU\": \"Obafemi Awolowo University\",\n",
    "              \"Unilag\": \"University of Lagos\",\n",
    "              \"NDA\": \"National Defence Academy\"}"
   ]
  },
  {
   "cell_type": "code",
   "execution_count": 71,
   "id": "ee140c88",
   "metadata": {},
   "outputs": [
    {
     "data": {
      "text/plain": [
       "{'AAU': 'Ambrose Alli University',\n",
       " 'OAU': 'Obafemi Awolowo University',\n",
       " 'Unilag': 'University of Lagos',\n",
       " 'NDA': 'National Defence Academy'}"
      ]
     },
     "execution_count": 71,
     "metadata": {},
     "output_type": "execute_result"
    }
   ],
   "source": [
    "  short_names"
   ]
  },
  {
   "cell_type": "code",
   "execution_count": 72,
   "id": "4dabc79b",
   "metadata": {},
   "outputs": [
    {
     "data": {
      "text/plain": [
       "dict_values(['Ambrose Alli University', 'Obafemi Awolowo University', 'University of Lagos', 'National Defence Academy'])"
      ]
     },
     "execution_count": 72,
     "metadata": {},
     "output_type": "execute_result"
    }
   ],
   "source": [
    "short_names.values()"
   ]
  },
  {
   "cell_type": "code",
   "execution_count": 73,
   "id": "97b6b691",
   "metadata": {},
   "outputs": [
    {
     "data": {
      "text/plain": [
       "dict_keys(['AAU', 'OAU', 'Unilag', 'NDA'])"
      ]
     },
     "execution_count": 73,
     "metadata": {},
     "output_type": "execute_result"
    }
   ],
   "source": [
    "short_names.keys()"
   ]
  },
  {
   "cell_type": "code",
   "execution_count": 74,
   "id": "b69d183c",
   "metadata": {},
   "outputs": [
    {
     "data": {
      "text/plain": [
       "dict_items([('AAU', 'Ambrose Alli University'), ('OAU', 'Obafemi Awolowo University'), ('Unilag', 'University of Lagos'), ('NDA', 'National Defence Academy')])"
      ]
     },
     "execution_count": 74,
     "metadata": {},
     "output_type": "execute_result"
    }
   ],
   "source": [
    "short_names.items()"
   ]
  },
  {
   "cell_type": "code",
   "execution_count": 75,
   "id": "99af8c61",
   "metadata": {},
   "outputs": [],
   "source": [
    "short_names[\"LASU\"] = \"Lagos State University\""
   ]
  },
  {
   "cell_type": "code",
   "execution_count": 76,
   "id": "d87a86b5",
   "metadata": {},
   "outputs": [
    {
     "data": {
      "text/plain": [
       "{'AAU': 'Ambrose Alli University',\n",
       " 'OAU': 'Obafemi Awolowo University',\n",
       " 'Unilag': 'University of Lagos',\n",
       " 'NDA': 'National Defence Academy',\n",
       " 'LASU': 'Lagos State University'}"
      ]
     },
     "execution_count": 76,
     "metadata": {},
     "output_type": "execute_result"
    }
   ],
   "source": [
    "short_names"
   ]
  },
  {
   "cell_type": "code",
   "execution_count": 77,
   "id": "29fa1573",
   "metadata": {},
   "outputs": [],
   "source": [
    "# Tuples"
   ]
  },
  {
   "cell_type": "code",
   "execution_count": 78,
   "id": "3f510dfb",
   "metadata": {},
   "outputs": [],
   "source": [
    "t = (1,2,3)"
   ]
  },
  {
   "cell_type": "code",
   "execution_count": 79,
   "id": "c9e6e35d",
   "metadata": {},
   "outputs": [
    {
     "data": {
      "text/plain": [
       "tuple"
      ]
     },
     "execution_count": 79,
     "metadata": {},
     "output_type": "execute_result"
    }
   ],
   "source": [
    "type(t)"
   ]
  },
  {
   "cell_type": "code",
   "execution_count": 80,
   "id": "d2ba92da",
   "metadata": {},
   "outputs": [],
   "source": [
    "t = (\"a\", 1)"
   ]
  },
  {
   "cell_type": "code",
   "execution_count": 81,
   "id": "479347af",
   "metadata": {},
   "outputs": [
    {
     "data": {
      "text/plain": [
       "'a'"
      ]
     },
     "execution_count": 81,
     "metadata": {},
     "output_type": "execute_result"
    }
   ],
   "source": [
    "t[0]"
   ]
  },
  {
   "cell_type": "code",
   "execution_count": 82,
   "id": "531f604e",
   "metadata": {},
   "outputs": [
    {
     "data": {
      "text/plain": [
       "1"
      ]
     },
     "execution_count": 82,
     "metadata": {},
     "output_type": "execute_result"
    }
   ],
   "source": [
    "t[1]"
   ]
  },
  {
   "cell_type": "code",
   "execution_count": 83,
   "id": "ba82e995",
   "metadata": {},
   "outputs": [
    {
     "data": {
      "text/plain": [
       "'a'"
      ]
     },
     "execution_count": 83,
     "metadata": {},
     "output_type": "execute_result"
    }
   ],
   "source": [
    "t[0]"
   ]
  },
  {
   "cell_type": "code",
   "execution_count": 84,
   "id": "08316393",
   "metadata": {},
   "outputs": [],
   "source": [
    "# Tuple Methods: Tuple has two method .index() and count()"
   ]
  },
  {
   "cell_type": "code",
   "execution_count": 85,
   "id": "96c4ddbd",
   "metadata": {},
   "outputs": [
    {
     "data": {
      "text/plain": [
       "('a', 1)"
      ]
     },
     "execution_count": 85,
     "metadata": {},
     "output_type": "execute_result"
    }
   ],
   "source": [
    "t"
   ]
  },
  {
   "cell_type": "code",
   "execution_count": 86,
   "id": "334aedf8",
   "metadata": {},
   "outputs": [
    {
     "data": {
      "text/plain": [
       "0"
      ]
     },
     "execution_count": 86,
     "metadata": {},
     "output_type": "execute_result"
    }
   ],
   "source": [
    "# Returns index of first instance!\n",
    "t.index(\"a\")"
   ]
  },
  {
   "cell_type": "code",
   "execution_count": 87,
   "id": "b88f357f",
   "metadata": {},
   "outputs": [
    {
     "data": {
      "text/plain": [
       "3"
      ]
     },
     "execution_count": 87,
     "metadata": {},
     "output_type": "execute_result"
    }
   ],
   "source": [
    "t = (\"a\", \"b\", \"c\", \"a\")\n",
    "t.index(\"a\", 2)"
   ]
  },
  {
   "cell_type": "code",
   "execution_count": 88,
   "id": "37ab499c",
   "metadata": {},
   "outputs": [
    {
     "data": {
      "text/plain": [
       "2"
      ]
     },
     "execution_count": 88,
     "metadata": {},
     "output_type": "execute_result"
    }
   ],
   "source": [
    "t.count(\"a\")"
   ]
  },
  {
   "cell_type": "code",
   "execution_count": 89,
   "id": "dd3f9226",
   "metadata": {},
   "outputs": [
    {
     "data": {
      "text/plain": [
       "0"
      ]
     },
     "execution_count": 89,
     "metadata": {},
     "output_type": "execute_result"
    }
   ],
   "source": [
    "t.count(\"k\")"
   ]
  },
  {
   "cell_type": "code",
   "execution_count": 90,
   "id": "4325a131",
   "metadata": {},
   "outputs": [
    {
     "data": {
      "text/plain": [
       "1"
      ]
     },
     "execution_count": 90,
     "metadata": {},
     "output_type": "execute_result"
    }
   ],
   "source": [
    "t.count(\"b\")"
   ]
  },
  {
   "cell_type": "code",
   "execution_count": 91,
   "id": "1572802e",
   "metadata": {},
   "outputs": [],
   "source": [
    "# Sets "
   ]
  },
  {
   "cell_type": "code",
   "execution_count": 92,
   "id": "ce2a2ac4",
   "metadata": {},
   "outputs": [],
   "source": [
    "x = set()"
   ]
  },
  {
   "cell_type": "code",
   "execution_count": 93,
   "id": "3e552469",
   "metadata": {},
   "outputs": [],
   "source": [
    "x.add(1)"
   ]
  },
  {
   "cell_type": "code",
   "execution_count": 94,
   "id": "505473cf",
   "metadata": {},
   "outputs": [
    {
     "data": {
      "text/plain": [
       "{1}"
      ]
     },
     "execution_count": 94,
     "metadata": {},
     "output_type": "execute_result"
    }
   ],
   "source": [
    "x"
   ]
  },
  {
   "cell_type": "code",
   "execution_count": 95,
   "id": "07710c80",
   "metadata": {},
   "outputs": [],
   "source": [
    "x.add(2)"
   ]
  },
  {
   "cell_type": "code",
   "execution_count": 96,
   "id": "165f6475",
   "metadata": {},
   "outputs": [
    {
     "data": {
      "text/plain": [
       "{1, 2}"
      ]
     },
     "execution_count": 96,
     "metadata": {},
     "output_type": "execute_result"
    }
   ],
   "source": [
    "x"
   ]
  },
  {
   "cell_type": "code",
   "execution_count": 97,
   "id": "7925a88b",
   "metadata": {},
   "outputs": [],
   "source": [
    "x.add(3)"
   ]
  },
  {
   "cell_type": "code",
   "execution_count": 98,
   "id": "dda9ccb0",
   "metadata": {},
   "outputs": [
    {
     "data": {
      "text/plain": [
       "{1, 2, 3}"
      ]
     },
     "execution_count": 98,
     "metadata": {},
     "output_type": "execute_result"
    }
   ],
   "source": [
    "x"
   ]
  },
  {
   "cell_type": "code",
   "execution_count": 99,
   "id": "2b13300b",
   "metadata": {},
   "outputs": [],
   "source": [
    "x.add(1)"
   ]
  },
  {
   "cell_type": "code",
   "execution_count": 100,
   "id": "f7bae022",
   "metadata": {},
   "outputs": [
    {
     "data": {
      "text/plain": [
       "{1, 2, 3}"
      ]
     },
     "execution_count": 100,
     "metadata": {},
     "output_type": "execute_result"
    }
   ],
   "source": [
    "x"
   ]
  },
  {
   "cell_type": "code",
   "execution_count": 101,
   "id": "371fefb0",
   "metadata": {},
   "outputs": [],
   "source": [
    "mylist = [1,1,1,1,1,2,2,2,2,2,3,3,3,3,3]"
   ]
  },
  {
   "cell_type": "code",
   "execution_count": 102,
   "id": "564951ae",
   "metadata": {},
   "outputs": [
    {
     "data": {
      "text/plain": [
       "{1, 2, 3}"
      ]
     },
     "execution_count": 102,
     "metadata": {},
     "output_type": "execute_result"
    }
   ],
   "source": [
    "set(mylist)"
   ]
  },
  {
   "cell_type": "code",
   "execution_count": 103,
   "id": "6b83f13b",
   "metadata": {},
   "outputs": [],
   "source": [
    "myset = {1,2,3,3,3,3,3,3}"
   ]
  },
  {
   "cell_type": "code",
   "execution_count": 104,
   "id": "8d374cdb",
   "metadata": {},
   "outputs": [
    {
     "data": {
      "text/plain": [
       "set"
      ]
     },
     "execution_count": 104,
     "metadata": {},
     "output_type": "execute_result"
    }
   ],
   "source": [
    "type(myset)"
   ]
  },
  {
   "cell_type": "code",
   "execution_count": 105,
   "id": "8df86e80",
   "metadata": {},
   "outputs": [
    {
     "data": {
      "text/plain": [
       "{1, 2, 3}"
      ]
     },
     "execution_count": 105,
     "metadata": {},
     "output_type": "execute_result"
    }
   ],
   "source": [
    "myset"
   ]
  },
  {
   "cell_type": "code",
   "execution_count": 106,
   "id": "b852866c",
   "metadata": {},
   "outputs": [],
   "source": [
    "val = [4, 5]\n",
    "myset.update(val)"
   ]
  },
  {
   "cell_type": "code",
   "execution_count": 107,
   "id": "805bc6b1",
   "metadata": {},
   "outputs": [
    {
     "data": {
      "text/plain": [
       "[4, 5]"
      ]
     },
     "execution_count": 107,
     "metadata": {},
     "output_type": "execute_result"
    }
   ],
   "source": [
    "val"
   ]
  },
  {
   "cell_type": "code",
   "execution_count": 108,
   "id": "61cbd8b9",
   "metadata": {},
   "outputs": [
    {
     "data": {
      "text/plain": [
       "{1, 2, 3, 4, 5}"
      ]
     },
     "execution_count": 108,
     "metadata": {},
     "output_type": "execute_result"
    }
   ],
   "source": [
    "myset"
   ]
  },
  {
   "cell_type": "code",
   "execution_count": 109,
   "id": "c60ce96e",
   "metadata": {},
   "outputs": [],
   "source": [
    "val2 = [10, 7,8,9]"
   ]
  },
  {
   "cell_type": "code",
   "execution_count": 110,
   "id": "f2d5b533",
   "metadata": {},
   "outputs": [],
   "source": [
    "myset.update(val2)"
   ]
  },
  {
   "cell_type": "code",
   "execution_count": 111,
   "id": "1deba312",
   "metadata": {},
   "outputs": [
    {
     "data": {
      "text/plain": [
       "{1, 2, 3, 4, 5, 7, 8, 9, 10}"
      ]
     },
     "execution_count": 111,
     "metadata": {},
     "output_type": "execute_result"
    }
   ],
   "source": [
    "myset"
   ]
  },
  {
   "cell_type": "code",
   "execution_count": 112,
   "id": "97ac19d9",
   "metadata": {},
   "outputs": [],
   "source": [
    "#List and loops"
   ]
  },
  {
   "cell_type": "code",
   "execution_count": 113,
   "id": "89a1e14e",
   "metadata": {},
   "outputs": [
    {
     "data": {
      "text/plain": [
       "list"
      ]
     },
     "execution_count": 113,
     "metadata": {},
     "output_type": "execute_result"
    }
   ],
   "source": [
    "alist = []\n",
    "type(alist)"
   ]
  },
  {
   "cell_type": "code",
   "execution_count": 114,
   "id": "24304ed8",
   "metadata": {},
   "outputs": [
    {
     "data": {
      "text/plain": [
       "[]"
      ]
     },
     "execution_count": 114,
     "metadata": {},
     "output_type": "execute_result"
    }
   ],
   "source": [
    "alist"
   ]
  },
  {
   "cell_type": "code",
   "execution_count": 115,
   "id": "87f14369",
   "metadata": {},
   "outputs": [],
   "source": [
    "my_list = [1,2,3]"
   ]
  },
  {
   "cell_type": "code",
   "execution_count": 116,
   "id": "c25fed1b",
   "metadata": {},
   "outputs": [
    {
     "data": {
      "text/plain": [
       "[1, 2, 3]"
      ]
     },
     "execution_count": 116,
     "metadata": {},
     "output_type": "execute_result"
    }
   ],
   "source": [
    "my_list"
   ]
  },
  {
   "cell_type": "code",
   "execution_count": 117,
   "id": "1ba7590a",
   "metadata": {},
   "outputs": [],
   "source": [
    "my_list2 = ['a', 'b', 'c', 1, 2]"
   ]
  },
  {
   "cell_type": "code",
   "execution_count": 118,
   "id": "54d11839",
   "metadata": {},
   "outputs": [
    {
     "data": {
      "text/plain": [
       "['a', 'b', 'c', 1, 2]"
      ]
     },
     "execution_count": 118,
     "metadata": {},
     "output_type": "execute_result"
    }
   ],
   "source": [
    "my_list2"
   ]
  },
  {
   "cell_type": "code",
   "execution_count": 119,
   "id": "e726e534",
   "metadata": {},
   "outputs": [
    {
     "data": {
      "text/plain": [
       "list"
      ]
     },
     "execution_count": 119,
     "metadata": {},
     "output_type": "execute_result"
    }
   ],
   "source": [
    "type(my_list2)"
   ]
  },
  {
   "cell_type": "code",
   "execution_count": 120,
   "id": "c223bed0",
   "metadata": {},
   "outputs": [],
   "source": [
    "a = 100\n",
    "b = 200\n",
    "c = 300\n",
    "my_list3 = [a,b,c,1,7]"
   ]
  },
  {
   "cell_type": "code",
   "execution_count": 121,
   "id": "7aacb2aa",
   "metadata": {},
   "outputs": [
    {
     "data": {
      "text/plain": [
       "[100, 200, 300, 1, 7]"
      ]
     },
     "execution_count": 121,
     "metadata": {},
     "output_type": "execute_result"
    }
   ],
   "source": [
    "my_list3"
   ]
  },
  {
   "cell_type": "code",
   "execution_count": 122,
   "id": "f3ae86a1",
   "metadata": {},
   "outputs": [],
   "source": [
    "#Indexing and slicing"
   ]
  },
  {
   "cell_type": "code",
   "execution_count": 123,
   "id": "07b0ac7a",
   "metadata": {},
   "outputs": [],
   "source": [
    "mylist = ['a', 'b', 'c', 'd']"
   ]
  },
  {
   "cell_type": "code",
   "execution_count": 124,
   "id": "3957d885",
   "metadata": {},
   "outputs": [
    {
     "data": {
      "text/plain": [
       "['a', 'b', 'c', 'd']"
      ]
     },
     "execution_count": 124,
     "metadata": {},
     "output_type": "execute_result"
    }
   ],
   "source": [
    "mylist"
   ]
  },
  {
   "cell_type": "code",
   "execution_count": 125,
   "id": "196c961c",
   "metadata": {},
   "outputs": [
    {
     "data": {
      "text/plain": [
       "'c'"
      ]
     },
     "execution_count": 125,
     "metadata": {},
     "output_type": "execute_result"
    }
   ],
   "source": [
    "mylist[2]"
   ]
  },
  {
   "cell_type": "code",
   "execution_count": 126,
   "id": "9e36893a",
   "metadata": {},
   "outputs": [
    {
     "data": {
      "text/plain": [
       "'a'"
      ]
     },
     "execution_count": 126,
     "metadata": {},
     "output_type": "execute_result"
    }
   ],
   "source": [
    "mylist[0]"
   ]
  },
  {
   "cell_type": "code",
   "execution_count": 127,
   "id": "b70d8d63",
   "metadata": {},
   "outputs": [
    {
     "data": {
      "text/plain": [
       "'a'"
      ]
     },
     "execution_count": 127,
     "metadata": {},
     "output_type": "execute_result"
    }
   ],
   "source": [
    "mylist[-4]"
   ]
  },
  {
   "cell_type": "code",
   "execution_count": 128,
   "id": "f3da6cf9",
   "metadata": {},
   "outputs": [
    {
     "data": {
      "text/plain": [
       "['b', 'c']"
      ]
     },
     "execution_count": 128,
     "metadata": {},
     "output_type": "execute_result"
    }
   ],
   "source": [
    "mylist[1:3]"
   ]
  },
  {
   "cell_type": "code",
   "execution_count": 129,
   "id": "9d47df43",
   "metadata": {},
   "outputs": [
    {
     "data": {
      "text/plain": [
       "['b', 'c', 'd']"
      ]
     },
     "execution_count": 129,
     "metadata": {},
     "output_type": "execute_result"
    }
   ],
   "source": [
    "mylist[1:]"
   ]
  },
  {
   "cell_type": "code",
   "execution_count": 130,
   "id": "f84cdd20",
   "metadata": {},
   "outputs": [],
   "source": [
    "# The Len Function"
   ]
  },
  {
   "cell_type": "code",
   "execution_count": 131,
   "id": "b1444c88",
   "metadata": {},
   "outputs": [
    {
     "data": {
      "text/plain": [
       "6"
      ]
     },
     "execution_count": 131,
     "metadata": {},
     "output_type": "execute_result"
    }
   ],
   "source": [
    "len('string')"
   ]
  },
  {
   "cell_type": "code",
   "execution_count": 132,
   "id": "960a5954",
   "metadata": {},
   "outputs": [
    {
     "data": {
      "text/plain": [
       "7"
      ]
     },
     "execution_count": 132,
     "metadata": {},
     "output_type": "execute_result"
    }
   ],
   "source": [
    "len('my_list')"
   ]
  },
  {
   "cell_type": "code",
   "execution_count": 133,
   "id": "237712d8",
   "metadata": {},
   "outputs": [],
   "source": [
    "#Useful List Methods"
   ]
  },
  {
   "cell_type": "code",
   "execution_count": 134,
   "id": "989263b7",
   "metadata": {},
   "outputs": [],
   "source": [
    "mylist = [1,2,3]"
   ]
  },
  {
   "cell_type": "code",
   "execution_count": 135,
   "id": "1ff61ddb",
   "metadata": {},
   "outputs": [
    {
     "data": {
      "text/plain": [
       "[1, 2, 3]"
      ]
     },
     "execution_count": 135,
     "metadata": {},
     "output_type": "execute_result"
    }
   ],
   "source": [
    "mylist"
   ]
  },
  {
   "cell_type": "code",
   "execution_count": 136,
   "id": "c6e2e908",
   "metadata": {},
   "outputs": [],
   "source": [
    "mylist.append(6)"
   ]
  },
  {
   "cell_type": "code",
   "execution_count": 137,
   "id": "71934d89",
   "metadata": {},
   "outputs": [
    {
     "data": {
      "text/plain": [
       "[1, 2, 3, 6]"
      ]
     },
     "execution_count": 137,
     "metadata": {},
     "output_type": "execute_result"
    }
   ],
   "source": [
    "mylist"
   ]
  },
  {
   "cell_type": "code",
   "execution_count": 138,
   "id": "83be252a",
   "metadata": {},
   "outputs": [
    {
     "data": {
      "text/plain": [
       "6"
      ]
     },
     "execution_count": 138,
     "metadata": {},
     "output_type": "execute_result"
    }
   ],
   "source": [
    "mylist.pop()"
   ]
  },
  {
   "cell_type": "code",
   "execution_count": 139,
   "id": "cfe355a9",
   "metadata": {},
   "outputs": [
    {
     "data": {
      "text/plain": [
       "[1, 2, 3]"
      ]
     },
     "execution_count": 139,
     "metadata": {},
     "output_type": "execute_result"
    }
   ],
   "source": [
    "mylist"
   ]
  },
  {
   "cell_type": "code",
   "execution_count": 140,
   "id": "b256b58f",
   "metadata": {},
   "outputs": [],
   "source": [
    "mylist.append(6)"
   ]
  },
  {
   "cell_type": "code",
   "execution_count": 141,
   "id": "edabec23",
   "metadata": {},
   "outputs": [
    {
     "data": {
      "text/plain": [
       "[1, 2, 3, 6]"
      ]
     },
     "execution_count": 141,
     "metadata": {},
     "output_type": "execute_result"
    }
   ],
   "source": [
    "mylist"
   ]
  },
  {
   "cell_type": "code",
   "execution_count": 142,
   "id": "f92a4230",
   "metadata": {},
   "outputs": [
    {
     "data": {
      "text/plain": [
       "1"
      ]
     },
     "execution_count": 142,
     "metadata": {},
     "output_type": "execute_result"
    }
   ],
   "source": [
    "mylist.pop(0)"
   ]
  },
  {
   "cell_type": "code",
   "execution_count": 143,
   "id": "5043fb1f",
   "metadata": {},
   "outputs": [
    {
     "data": {
      "text/plain": [
       "[2, 3, 6]"
      ]
     },
     "execution_count": 143,
     "metadata": {},
     "output_type": "execute_result"
    }
   ],
   "source": [
    "mylist"
   ]
  },
  {
   "cell_type": "code",
   "execution_count": 144,
   "id": "e52f06f5",
   "metadata": {},
   "outputs": [
    {
     "name": "stdout",
     "output_type": "stream",
     "text": [
      "[1, 3, 4, 5]\n"
     ]
    }
   ],
   "source": [
    "my_list = [1,3,4,5]\n",
    "print(my_list)"
   ]
  },
  {
   "cell_type": "code",
   "execution_count": 145,
   "id": "371a1038",
   "metadata": {},
   "outputs": [],
   "source": [
    "del my_list[3]"
   ]
  },
  {
   "cell_type": "code",
   "execution_count": 146,
   "id": "a566e9f2",
   "metadata": {},
   "outputs": [
    {
     "data": {
      "text/plain": [
       "[1, 3, 4]"
      ]
     },
     "execution_count": 146,
     "metadata": {},
     "output_type": "execute_result"
    }
   ],
   "source": [
    "my_list"
   ]
  },
  {
   "cell_type": "code",
   "execution_count": 147,
   "id": "14c225f3",
   "metadata": {},
   "outputs": [],
   "source": [
    "# Delete enable you sliced while deleting"
   ]
  },
  {
   "cell_type": "code",
   "execution_count": 148,
   "id": "28174ab1",
   "metadata": {},
   "outputs": [],
   "source": [
    "list1 = [1,2,3,4,5,6]"
   ]
  },
  {
   "cell_type": "code",
   "execution_count": 149,
   "id": "bcf48121",
   "metadata": {},
   "outputs": [],
   "source": [
    "del list1[1:3]"
   ]
  },
  {
   "cell_type": "code",
   "execution_count": 150,
   "id": "4d8d77cb",
   "metadata": {},
   "outputs": [
    {
     "data": {
      "text/plain": [
       "[1, 4, 5, 6]"
      ]
     },
     "execution_count": 150,
     "metadata": {},
     "output_type": "execute_result"
    }
   ],
   "source": [
    "list1"
   ]
  },
  {
   "cell_type": "code",
   "execution_count": 151,
   "id": "ef2b8ffe",
   "metadata": {},
   "outputs": [],
   "source": [
    "mylist = [1,10,16,2,3,4,5,6,7]"
   ]
  },
  {
   "cell_type": "code",
   "execution_count": 152,
   "id": "ef8c769e",
   "metadata": {},
   "outputs": [],
   "source": [
    "#Reverse"
   ]
  },
  {
   "cell_type": "code",
   "execution_count": 153,
   "id": "730a7dcb",
   "metadata": {},
   "outputs": [],
   "source": [
    "mylist.reverse()"
   ]
  },
  {
   "cell_type": "code",
   "execution_count": 154,
   "id": "2cc11132",
   "metadata": {},
   "outputs": [
    {
     "data": {
      "text/plain": [
       "[7, 6, 5, 4, 3, 2, 16, 10, 1]"
      ]
     },
     "execution_count": 154,
     "metadata": {},
     "output_type": "execute_result"
    }
   ],
   "source": [
    "mylist"
   ]
  },
  {
   "cell_type": "code",
   "execution_count": 155,
   "id": "50519a52",
   "metadata": {},
   "outputs": [],
   "source": [
    "new_list = mylist.reverse()"
   ]
  },
  {
   "cell_type": "code",
   "execution_count": 156,
   "id": "4c431fab",
   "metadata": {},
   "outputs": [],
   "source": [
    "new_list"
   ]
  },
  {
   "cell_type": "code",
   "execution_count": 157,
   "id": "4894f19a",
   "metadata": {},
   "outputs": [
    {
     "data": {
      "text/plain": [
       "[1, 10, 16, 2, 3, 4, 5, 6, 7]"
      ]
     },
     "execution_count": 157,
     "metadata": {},
     "output_type": "execute_result"
    }
   ],
   "source": [
    "mylist"
   ]
  },
  {
   "cell_type": "code",
   "execution_count": 158,
   "id": "8241a75a",
   "metadata": {},
   "outputs": [],
   "source": [
    "# Sorting"
   ]
  },
  {
   "cell_type": "code",
   "execution_count": 159,
   "id": "4968e5b5",
   "metadata": {},
   "outputs": [],
   "source": [
    "mylist.sort()"
   ]
  },
  {
   "cell_type": "code",
   "execution_count": 160,
   "id": "728246f8",
   "metadata": {},
   "outputs": [
    {
     "data": {
      "text/plain": [
       "[1, 2, 3, 4, 5, 6, 7, 10, 16]"
      ]
     },
     "execution_count": 160,
     "metadata": {},
     "output_type": "execute_result"
    }
   ],
   "source": [
    "mylist"
   ]
  },
  {
   "cell_type": "code",
   "execution_count": 161,
   "id": "6b2e60da",
   "metadata": {},
   "outputs": [],
   "source": [
    "mylist.sort(reverse=True)"
   ]
  },
  {
   "cell_type": "code",
   "execution_count": 162,
   "id": "1cdf06bf",
   "metadata": {},
   "outputs": [
    {
     "data": {
      "text/plain": [
       "[16, 10, 7, 6, 5, 4, 3, 2, 1]"
      ]
     },
     "execution_count": 162,
     "metadata": {},
     "output_type": "execute_result"
    }
   ],
   "source": [
    "mylist"
   ]
  },
  {
   "cell_type": "code",
   "execution_count": 163,
   "id": "63032423",
   "metadata": {},
   "outputs": [],
   "source": [
    "mylist = [20,50,10,100,14]"
   ]
  },
  {
   "cell_type": "code",
   "execution_count": 164,
   "id": "d0332fb3",
   "metadata": {},
   "outputs": [],
   "source": [
    "mylist.append(20)"
   ]
  },
  {
   "cell_type": "code",
   "execution_count": 165,
   "id": "66603977",
   "metadata": {},
   "outputs": [
    {
     "data": {
      "text/plain": [
       "[20, 50, 10, 100, 14, 20]"
      ]
     },
     "execution_count": 165,
     "metadata": {},
     "output_type": "execute_result"
    }
   ],
   "source": [
    "mylist"
   ]
  },
  {
   "cell_type": "code",
   "execution_count": 166,
   "id": "dd95f9e5",
   "metadata": {},
   "outputs": [],
   "source": [
    "mylist.insert(3,'middle')"
   ]
  },
  {
   "cell_type": "code",
   "execution_count": 167,
   "id": "bfb1c3f8",
   "metadata": {},
   "outputs": [
    {
     "data": {
      "text/plain": [
       "[20, 50, 10, 'middle', 100, 14, 20]"
      ]
     },
     "execution_count": 167,
     "metadata": {},
     "output_type": "execute_result"
    }
   ],
   "source": [
    "mylist"
   ]
  },
  {
   "cell_type": "code",
   "execution_count": 168,
   "id": "9680d6bf",
   "metadata": {},
   "outputs": [],
   "source": [
    "list1 = ['a', 'b', 'c']\n",
    "list2 = ['e', 'f', 'g']"
   ]
  },
  {
   "cell_type": "code",
   "execution_count": 169,
   "id": "a0e34c4d",
   "metadata": {},
   "outputs": [],
   "source": [
    "list1.extend(list2)"
   ]
  },
  {
   "cell_type": "code",
   "execution_count": 170,
   "id": "93b85deb",
   "metadata": {},
   "outputs": [
    {
     "data": {
      "text/plain": [
       "['a', 'b', 'c', 'e', 'f', 'g']"
      ]
     },
     "execution_count": 170,
     "metadata": {},
     "output_type": "execute_result"
    }
   ],
   "source": [
    "list1"
   ]
  },
  {
   "cell_type": "code",
   "execution_count": 171,
   "id": "c8ed8485",
   "metadata": {},
   "outputs": [],
   "source": [
    "# Nested List"
   ]
  },
  {
   "cell_type": "code",
   "execution_count": 172,
   "id": "fbb6d6ed",
   "metadata": {},
   "outputs": [],
   "source": [
    "new_list = [ 1,2,3,['a','b','c']]"
   ]
  },
  {
   "cell_type": "code",
   "execution_count": 173,
   "id": "77950d57",
   "metadata": {},
   "outputs": [
    {
     "data": {
      "text/plain": [
       "[1, 2, 3, ['a', 'b', 'c']]"
      ]
     },
     "execution_count": 173,
     "metadata": {},
     "output_type": "execute_result"
    }
   ],
   "source": [
    "new_list"
   ]
  },
  {
   "cell_type": "code",
   "execution_count": 174,
   "id": "e0e1daca",
   "metadata": {},
   "outputs": [
    {
     "data": {
      "text/plain": [
       "['a', 'b', 'c']"
      ]
     },
     "execution_count": 174,
     "metadata": {},
     "output_type": "execute_result"
    }
   ],
   "source": [
    "new_list[3]"
   ]
  },
  {
   "cell_type": "code",
   "execution_count": 175,
   "id": "db9fba15",
   "metadata": {},
   "outputs": [
    {
     "data": {
      "text/plain": [
       "['e', 'f', 'g']"
      ]
     },
     "execution_count": 175,
     "metadata": {},
     "output_type": "execute_result"
    }
   ],
   "source": [
    "list2"
   ]
  },
  {
   "cell_type": "code",
   "execution_count": 176,
   "id": "0c0bd128",
   "metadata": {},
   "outputs": [],
   "source": [
    "list2 = ['e', 'h', 'g']   "
   ]
  },
  {
   "cell_type": "code",
   "execution_count": 177,
   "id": "29344ab9",
   "metadata": {},
   "outputs": [],
   "source": [
    "list2[1] = 'a'"
   ]
  },
  {
   "cell_type": "code",
   "execution_count": 178,
   "id": "06210f5c",
   "metadata": {},
   "outputs": [
    {
     "data": {
      "text/plain": [
       "['e', 'a', 'g']"
      ]
     },
     "execution_count": 178,
     "metadata": {},
     "output_type": "execute_result"
    }
   ],
   "source": [
    "list2"
   ]
  },
  {
   "cell_type": "code",
   "execution_count": 179,
   "id": "f22220de",
   "metadata": {},
   "outputs": [],
   "source": [
    "# Loops\n",
    "# While loop"
   ]
  },
  {
   "cell_type": "code",
   "execution_count": 180,
   "id": "7d36571a",
   "metadata": {},
   "outputs": [
    {
     "name": "stdout",
     "output_type": "stream",
     "text": [
      "a is less than 10\n",
      "1\n",
      "a is less than 10\n",
      "2\n",
      "a is less than 10\n",
      "3\n",
      "a is less than 10\n",
      "4\n",
      "a is less than 10\n",
      "5\n",
      "a is less than 10\n",
      "6\n",
      "a is less than 10\n",
      "7\n",
      "a is less than 10\n",
      "8\n",
      "a is less than 10\n",
      "9\n"
     ]
    }
   ],
   "source": [
    "a = 1\n",
    "while a < 10:\n",
    "    print(\"a is less than 10\")\n",
    "    print(a)\n",
    "    a = a + 1"
   ]
  },
  {
   "cell_type": "code",
   "execution_count": 181,
   "id": "ce679a27",
   "metadata": {},
   "outputs": [
    {
     "name": "stdout",
     "output_type": "stream",
     "text": [
      "x is currently\n",
      "0\n",
      "Adding 1 to x\n",
      "x is currently\n",
      "1\n",
      "Adding 1 to x\n",
      "x is currently\n",
      "2\n",
      "Adding 1 to x\n"
     ]
    }
   ],
   "source": [
    "# Start by setting variable x to 0\n",
    "x = 0\n",
    "while x < 3:\n",
    "    print('x is currently')\n",
    "    print(x)\n",
    "    print(\"Adding 1 to x\")\n",
    "    x = x + 1 #alternatively you could write x +=1"
   ]
  },
  {
   "cell_type": "code",
   "execution_count": 182,
   "id": "aac8289c",
   "metadata": {},
   "outputs": [
    {
     "name": "stdout",
     "output_type": "stream",
     "text": [
      "x is less than 6\n",
      "2\n",
      "x is less than 6\n",
      "3\n",
      "x is less than 6\n",
      "4\n",
      "x is less than 6\n",
      "5\n"
     ]
    }
   ],
   "source": [
    "x = 2\n",
    "while x < 6:\n",
    "    print(\"x is less than 6\")\n",
    "    print(x)\n",
    "    x +=1"
   ]
  },
  {
   "cell_type": "code",
   "execution_count": 183,
   "id": "0465e264",
   "metadata": {},
   "outputs": [
    {
     "name": "stdout",
     "output_type": "stream",
     "text": [
      "0\n",
      "Adding 1 to x\n",
      "1\n",
      "Adding 1 to x\n",
      "2\n",
      "Adding 1 to x\n"
     ]
    }
   ],
   "source": [
    "x = 0\n",
    "while x < 10:\n",
    "    print(x)\n",
    "    print(\"Adding 1 to x\")\n",
    "    x = x + 1\n",
    "    \n",
    "    if x == 3:\n",
    "        break "
   ]
  },
  {
   "cell_type": "code",
   "execution_count": 184,
   "id": "d24eb9a8",
   "metadata": {},
   "outputs": [],
   "source": [
    "# For Loop   "
   ]
  },
  {
   "cell_type": "code",
   "execution_count": 185,
   "id": "b88a2d1e",
   "metadata": {},
   "outputs": [
    {
     "name": "stdout",
     "output_type": "stream",
     "text": [
      "1\n",
      "4\n",
      "9\n",
      "16\n"
     ]
    }
   ],
   "source": [
    "mylist = [1,2,3,4]\n",
    "for num in mylist:\n",
    "    print(num**2)"
   ]
  },
  {
   "cell_type": "code",
   "execution_count": 186,
   "id": "fe05ae9e",
   "metadata": {},
   "outputs": [
    {
     "name": "stdout",
     "output_type": "stream",
     "text": [
      "1\n",
      "4\n",
      "9\n",
      "16\n"
     ]
    }
   ],
   "source": [
    "for val in mylist:\n",
    "    print(val**2)"
   ]
  },
  {
   "cell_type": "code",
   "execution_count": 187,
   "id": "dd981f8e",
   "metadata": {},
   "outputs": [
    {
     "name": "stdout",
     "output_type": "stream",
     "text": [
      "0.25\n",
      "0.5\n",
      "0.75\n",
      "1.0\n"
     ]
    }
   ],
   "source": [
    "for val in mylist:\n",
    "    print(val/4)"
   ]
  },
  {
   "cell_type": "code",
   "execution_count": 188,
   "id": "94230416",
   "metadata": {},
   "outputs": [
    {
     "name": "stdout",
     "output_type": "stream",
     "text": [
      "1\n",
      "I am in a for Loop\n",
      "2\n",
      "I am in a for Loop\n",
      "3\n",
      "I am in a for Loop\n",
      "4\n",
      "I am in a for Loop\n"
     ]
    }
   ],
   "source": [
    "for num in mylist:\n",
    "    print(num)\n",
    "    print(\"I am in a for Loop\")"
   ]
  },
  {
   "cell_type": "code",
   "execution_count": 189,
   "id": "98a5560d",
   "metadata": {},
   "outputs": [
    {
     "name": "stdout",
     "output_type": "stream",
     "text": [
      "0\n",
      "1\n",
      "2\n",
      "3\n"
     ]
    }
   ],
   "source": [
    "for i in range(len(mylist )):\n",
    "    print(i)"
   ]
  },
  {
   "cell_type": "code",
   "execution_count": 190,
   "id": "36792640",
   "metadata": {},
   "outputs": [
    {
     "name": "stdout",
     "output_type": "stream",
     "text": [
      "1\n",
      "2\n",
      "3\n",
      "4\n"
     ]
    }
   ],
   "source": [
    "for i in range(len(mylist )):\n",
    "    print(mylist[i])"
   ]
  },
  {
   "cell_type": "code",
   "execution_count": 191,
   "id": "c049cf23",
   "metadata": {},
   "outputs": [],
   "source": [
    "# For loop with a string"
   ]
  },
  {
   "cell_type": "code",
   "execution_count": 192,
   "id": "dedc5f37",
   "metadata": {},
   "outputs": [
    {
     "name": "stdout",
     "output_type": "stream",
     "text": [
      "T\n",
      "h\n",
      "i\n",
      "s\n",
      " \n",
      "i\n",
      "s\n",
      " \n",
      "a\n",
      " \n",
      "s\n",
      "t\n",
      "r\n",
      "i\n",
      "n\n",
      "g\n"
     ]
    }
   ],
   "source": [
    "for character in \"This is a string\":\n",
    "    print(character)"
   ]
  },
  {
   "cell_type": "code",
   "execution_count": 193,
   "id": "ae85997a",
   "metadata": {},
   "outputs": [
    {
     "name": "stdout",
     "output_type": "stream",
     "text": [
      "This\n",
      "is\n",
      "a\n",
      "string\n"
     ]
    }
   ],
   "source": [
    "mystring = 'This is a string'\n",
    "for word in mystring.split():\n",
    "    print(word)"
   ]
  },
  {
   "cell_type": "code",
   "execution_count": 194,
   "id": "bd181211",
   "metadata": {},
   "outputs": [
    {
     "name": "stdout",
     "output_type": "stream",
     "text": [
      "1\n",
      "2\n",
      "3\n",
      "4\n"
     ]
    }
   ],
   "source": [
    "# for loop with tuple\n",
    "tup = (1,2,3,4)\n",
    "for num in tup:\n",
    "    print(num)"
   ]
  },
  {
   "cell_type": "code",
   "execution_count": 196,
   "id": "d99d2421",
   "metadata": {},
   "outputs": [],
   "source": [
    "# tupple unpacking"
   ]
  },
  {
   "cell_type": "code",
   "execution_count": 197,
   "id": "ab82a28a",
   "metadata": {},
   "outputs": [
    {
     "name": "stdout",
     "output_type": "stream",
     "text": [
      "(1, 2)\n",
      "(3, 4)\n",
      "(5, 6)\n",
      "(7, 8)\n",
      "(9, 10)\n"
     ]
    }
   ],
   "source": [
    "list_of_tups = [(1,2),(3,4),(5,6),(7,8),(9,10)]\n",
    "for x in list_of_tups:\n",
    "    print(x)\n",
    "    "
   ]
  },
  {
   "cell_type": "code",
   "execution_count": 198,
   "id": "954f2ddf",
   "metadata": {},
   "outputs": [
    {
     "name": "stdout",
     "output_type": "stream",
     "text": [
      "1\n",
      "3\n",
      "5\n",
      "7\n",
      "9\n"
     ]
    }
   ],
   "source": [
    "for x in list_of_tups:\n",
    "    print(x[0])"
   ]
  },
  {
   "cell_type": "code",
   "execution_count": 199,
   "id": "e2df83ed",
   "metadata": {},
   "outputs": [
    {
     "name": "stdout",
     "output_type": "stream",
     "text": [
      "2\n",
      "4\n",
      "6\n",
      "8\n",
      "10\n"
     ]
    }
   ],
   "source": [
    "for x in list_of_tups:\n",
    "    print(x[1])"
   ]
  },
  {
   "cell_type": "code",
   "execution_count": 200,
   "id": "b52b03eb",
   "metadata": {},
   "outputs": [
    {
     "name": "stdout",
     "output_type": "stream",
     "text": [
      "1\n",
      "2\n",
      "\n",
      "\n",
      "3\n",
      "4\n",
      "\n",
      "\n",
      "5\n",
      "6\n",
      "\n",
      "\n",
      "7\n",
      "8\n",
      "\n",
      "\n",
      "9\n",
      "10\n",
      "\n",
      "\n"
     ]
    }
   ],
   "source": [
    "for num1,num2 in list_of_tups:\n",
    "    print(num1)\n",
    "    print(num2)\n",
    "    print('\\n')"
   ]
  },
  {
   "cell_type": "code",
   "execution_count": 201,
   "id": "53249f12",
   "metadata": {},
   "outputs": [],
   "source": [
    "# for loop with dictionaries"
   ]
  },
  {
   "cell_type": "code",
   "execution_count": 202,
   "id": "74a05ba7",
   "metadata": {},
   "outputs": [],
   "source": [
    "my_dictionary = {'a':1, 'b':2, 'c':3}"
   ]
  },
  {
   "cell_type": "code",
   "execution_count": 203,
   "id": "5289bfd7",
   "metadata": {},
   "outputs": [
    {
     "name": "stdout",
     "output_type": "stream",
     "text": [
      "a\n",
      "b\n",
      "c\n"
     ]
    }
   ],
   "source": [
    "for item in my_dictionary:\n",
    "    print(item)"
   ]
  },
  {
   "cell_type": "code",
   "execution_count": 204,
   "id": "1228b992",
   "metadata": {},
   "outputs": [
    {
     "name": "stdout",
     "output_type": "stream",
     "text": [
      "1\n",
      "2\n",
      "3\n"
     ]
    }
   ],
   "source": [
    "for k in my_dictionary.values():\n",
    "    print(k)"
   ]
  },
  {
   "cell_type": "code",
   "execution_count": 205,
   "id": "ce4c6174",
   "metadata": {},
   "outputs": [
    {
     "name": "stdout",
     "output_type": "stream",
     "text": [
      "a\n",
      "1\n",
      "\n",
      "\n",
      "b\n",
      "2\n",
      "\n",
      "\n",
      "c\n",
      "3\n",
      "\n",
      "\n"
     ]
    }
   ],
   "source": [
    "for k in my_dictionary.keys():\n",
    "    print(k)\n",
    "    print(my_dictionary[k])\n",
    "    print('\\n')"
   ]
  },
  {
   "cell_type": "code",
   "execution_count": 206,
   "id": "57a20530",
   "metadata": {},
   "outputs": [],
   "source": [
    "# Continue, continue skip the condition that is true"
   ]
  },
  {
   "cell_type": "code",
   "execution_count": 209,
   "id": "e0ab8808",
   "metadata": {},
   "outputs": [
    {
     "name": "stdout",
     "output_type": "stream",
     "text": [
      "Your score is 30\n",
      "Your score is 40\n",
      "Your score is 60\n"
     ]
    }
   ],
   "source": [
    "scores = [30,40,50,60]\n",
    "for num in scores:     \n",
    "    if num == 50:\n",
    "        continue\n",
    "    print('Your score is', num)"
   ]
  },
  {
   "cell_type": "code",
   "execution_count": 210,
   "id": "dd3ac0b7",
   "metadata": {},
   "outputs": [
    {
     "name": "stdout",
     "output_type": "stream",
     "text": [
      "Your score is 30\n",
      "Your score is 50\n",
      "Your score is 60\n"
     ]
    }
   ],
   "source": [
    "scores = [30,40,50,60]\n",
    "for num in scores:     \n",
    "    if num == 40:\n",
    "        continue\n",
    "    print('Your score is', num)"
   ]
  },
  {
   "cell_type": "code",
   "execution_count": 217,
   "id": "c487da54",
   "metadata": {},
   "outputs": [
    {
     "name": "stdout",
     "output_type": "stream",
     "text": [
      "Current Letter is: c\n",
      "Current Letter is: o\n",
      "Current Letter is: d\n"
     ]
    }
   ],
   "source": [
    "\n",
    "for letter in 'code':     \n",
    "    if letter == 'e':\n",
    "        continue\n",
    "    print('Current Letter is:',letter)"
   ]
  },
  {
   "cell_type": "code",
   "execution_count": 2,
   "id": "e953f7f1",
   "metadata": {},
   "outputs": [],
   "source": [
    "# Conditional Statements"
   ]
  },
  {
   "cell_type": "code",
   "execution_count": 4,
   "id": "ae01f447",
   "metadata": {},
   "outputs": [
    {
     "name": "stdout",
     "output_type": "stream",
     "text": [
      "one is less than Two \n"
     ]
    }
   ],
   "source": [
    "if 1<2:\n",
    "    print(\"one is less than Two \")\n",
    "    "
   ]
  },
  {
   "cell_type": "code",
   "execution_count": 1,
   "id": "5b2bbd4e",
   "metadata": {},
   "outputs": [],
   "source": [
    "if 5==6:\n",
    "    print(\"five is equal to \")\n",
    "    "
   ]
  },
  {
   "cell_type": "code",
   "execution_count": 5,
   "id": "9eed63e7",
   "metadata": {},
   "outputs": [
    {
     "name": "stdout",
     "output_type": "stream",
     "text": [
      "Above ten\n",
      "but not above 20\n"
     ]
    }
   ],
   "source": [
    "x = 20\n",
    "\n",
    "if x > 10:\n",
    "    print(\"Above ten\")\n",
    "    if x > 20:\n",
    "        print(\"and also above 20!\")\n",
    "    else:\n",
    "        print(\"but not above 20\")\n",
    "else:\n",
    "    print(\"Condition not met\")"
   ]
  },
  {
   "cell_type": "code",
   "execution_count": 6,
   "id": "ed637a99",
   "metadata": {},
   "outputs": [
    {
     "name": "stdout",
     "output_type": "stream",
     "text": [
      "Above ten\n",
      "and also above 20!\n"
     ]
    }
   ],
   "source": [
    "x = 21\n",
    "\n",
    "if x > 10:\n",
    "    print(\"Above ten\")\n",
    "    if x > 20:\n",
    "        print(\"and also above 20!\")\n",
    "    else:\n",
    "        print(\"but not above 20\")\n",
    "else:\n",
    "    print(\"Condition not met\") "
   ]
  },
  {
   "cell_type": "code",
   "execution_count": 7,
   "id": "79f0abab",
   "metadata": {},
   "outputs": [
    {
     "name": "stdout",
     "output_type": "stream",
     "text": [
      "Condition not met\n"
     ]
    }
   ],
   "source": [
    "x = 9\n",
    "\n",
    "if x > 10:\n",
    "    print(\"Above ten\")\n",
    "    if x > 20:\n",
    "        print(\"and also above 20!\")\n",
    "    else:\n",
    "        print(\"but not above 20\")\n",
    "else:\n",
    "    print(\"Condition not met\")"
   ]
  },
  {
   "cell_type": "code",
   "execution_count": 8,
   "id": "4ebd2c25",
   "metadata": {},
   "outputs": [
    {
     "name": "stdout",
     "output_type": "stream",
     "text": [
      "Condition not met\n"
     ]
    }
   ],
   "source": [
    "x = 10\n",
    "\n",
    "if x > 10:\n",
    "    print(\"Above ten\")\n",
    "    if x > 20:\n",
    "        print(\"and also above 20!\")\n",
    "    else:\n",
    "        print(\"but not above 20\")\n",
    "else:\n",
    "    print(\"Condition not met\")"
   ]
  },
  {
   "cell_type": "code",
   "execution_count": 9,
   "id": "3a6ec79d",
   "metadata": {},
   "outputs": [],
   "source": [
    "# if else Statement"
   ]
  },
  {
   "cell_type": "code",
   "execution_count": 10,
   "id": "c60dfef3",
   "metadata": {},
   "outputs": [
    {
     "name": "stdout",
     "output_type": "stream",
     "text": [
      "One is equal to One\n"
     ]
    }
   ],
   "source": [
    "if 1==1:\n",
    "    print(\"One is equal to One\")\n",
    "else:\n",
    "    print(\"First if was not True\")"
   ]
  },
  {
   "cell_type": "code",
   "execution_count": 11,
   "id": "2cac87f2",
   "metadata": {},
   "outputs": [
    {
     "name": "stdout",
     "output_type": "stream",
     "text": [
      "First if was not True\n"
     ]
    }
   ],
   "source": [
    "if 1==2:\n",
    "    print(\"One is equal to One\")\n",
    "else:\n",
    "    print(\"First if was not True\")"
   ]
  },
  {
   "cell_type": "code",
   "execution_count": 15,
   "id": "f4ffcbf2",
   "metadata": {},
   "outputs": [
    {
     "name": "stdout",
     "output_type": "stream",
     "text": [
      "Enter your password123456\n",
      "Password correct\n"
     ]
    }
   ],
   "source": [
    "save_password = 123456\n",
    "new_password = input(\"Enter your password\")\n",
    "\n",
    "if int(new_password) == save_password:\n",
    "    print(\"Password correct\")\n",
    "else:\n",
    "    print(\"You're a criminal\")"
   ]
  },
  {
   "cell_type": "code",
   "execution_count": 16,
   "id": "89ae2e7c",
   "metadata": {},
   "outputs": [],
   "source": [
    "# if, elif, else (Use when there a many conditions )"
   ]
  },
  {
   "cell_type": "code",
   "execution_count": 19,
   "id": "6a69c437",
   "metadata": {},
   "outputs": [
    {
     "name": "stdout",
     "output_type": "stream",
     "text": [
      "None of the above condition were True\n"
     ]
    }
   ],
   "source": [
    "if 2 == 0:\n",
    "    print(\"First condition True\")\n",
    "elif 2 == 1:\n",
    "    print(\"Second condition True\")\n",
    "elif 2 == 100:\n",
    "    print(\"Third condtion True\")\n",
    "else:\n",
    "    print(\"None of the above condition were True\")"
   ]
  },
  {
   "cell_type": "code",
   "execution_count": 22,
   "id": "fa64b31f",
   "metadata": {},
   "outputs": [
    {
     "name": "stdout",
     "output_type": "stream",
     "text": [
      "Third condtion True\n"
     ]
    }
   ],
   "source": [
    "if 2 == 1:\n",
    "    print(\"First condition True\")\n",
    "elif 2 == 1:\n",
    "    print(\"Second condition True\")\n",
    "elif 2 <= 3:\n",
    "    print(\"Third condtion True\")\n",
    "else:\n",
    "    print(\"None of the above condition were True\")"
   ]
  },
  {
   "cell_type": "code",
   "execution_count": 24,
   "id": "55533d84",
   "metadata": {},
   "outputs": [
    {
     "name": "stdout",
     "output_type": "stream",
     "text": [
      "Second condition True\n"
     ]
    }
   ],
   "source": [
    "if 2 == 1:\n",
    "    print(\"First condition True\")\n",
    "elif 2 == 2:\n",
    "    print(\"Second condition True\")\n",
    "elif 2 <= 3:\n",
    "    print(\"Third condtion True\")\n",
    "else:\n",
    "    print(\"None of the above condition were True\")"
   ]
  },
  {
   "cell_type": "code",
   "execution_count": 25,
   "id": "2fbb1da6",
   "metadata": {},
   "outputs": [
    {
     "name": "stdout",
     "output_type": "stream",
     "text": [
      "First condition True\n"
     ]
    }
   ],
   "source": [
    "if 2 == 2:\n",
    "    print(\"First condition True\")\n",
    "elif 2 == 2:\n",
    "    print(\"Second condition True\")\n",
    "elif 2 <= 3:\n",
    "    print(\"Third condtion True\")\n",
    "else:\n",
    "    print(\"None of the above condition were True\")"
   ]
  },
  {
   "cell_type": "code",
   "execution_count": 26,
   "id": "5832af92",
   "metadata": {},
   "outputs": [
    {
     "name": "stdout",
     "output_type": "stream",
     "text": [
      "five is equal to five\n"
     ]
    }
   ],
   "source": [
    " if 5 == 6:\n",
    "    print(\"five is equal to six\")\n",
    "elif 5 == 5:\n",
    "    print(\"five is equal to five\")\n",
    "\n",
    "else:\n",
    "    print(\"five is not equal to six\")"
   ]
  },
  {
   "cell_type": "code",
   "execution_count": 2,
   "id": "9c24e0d1",
   "metadata": {},
   "outputs": [],
   "source": [
    "# Functions\n",
    "\n",
    "def print_sum(a, b):\n",
    "    \"This prints the sum of two numbers a and b\"\n",
    "    print(a + b)\n",
    "    return"
   ]
  },
  {
   "cell_type": "code",
   "execution_count": 3,
   "id": "71c94315",
   "metadata": {},
   "outputs": [],
   "source": [
    "# Calling a function"
   ]
  },
  {
   "cell_type": "code",
   "execution_count": 29,
   "id": "215edb7b",
   "metadata": {},
   "outputs": [
    {
     "name": "stdout",
     "output_type": "stream",
     "text": [
      "11\n"
     ]
    }
   ],
   "source": [
    "print_sum(5,6)"
   ]
  },
  {
   "cell_type": "code",
   "execution_count": 4,
   "id": "ec56e085",
   "metadata": {},
   "outputs": [
    {
     "name": "stdout",
     "output_type": "stream",
     "text": [
      "16\n"
     ]
    }
   ],
   "source": [
    "print_sum(7,9)"
   ]
  },
  {
   "cell_type": "code",
   "execution_count": 5,
   "id": "60664c88",
   "metadata": {},
   "outputs": [
    {
     "name": "stdout",
     "output_type": "stream",
     "text": [
      "28\n"
     ]
    }
   ],
   "source": [
    "print_sum(10, 18)"
   ]
  },
  {
   "cell_type": "code",
   "execution_count": 6,
   "id": "4999cd6e",
   "metadata": {},
   "outputs": [],
   "source": [
    "# Area of a rectangle = L * B\n",
    "def area_rec(L,B):\n",
    "    \"This function calculates the area of a rectangle\"\n",
    "    print(L*B)\n",
    "    return"
   ]
  },
  {
   "cell_type": "code",
   "execution_count": 7,
   "id": "852df671",
   "metadata": {},
   "outputs": [
    {
     "name": "stdout",
     "output_type": "stream",
     "text": [
      "50\n"
     ]
    }
   ],
   "source": [
    "#L=10 \n",
    "#B=5\n",
    "\n",
    "area_rec(10,5)\n"
   ]
  },
  {
   "cell_type": "code",
   "execution_count": 8,
   "id": "689c33ae",
   "metadata": {},
   "outputs": [
    {
     "name": "stdout",
     "output_type": "stream",
     "text": [
      "105\n"
     ]
    }
   ],
   "source": [
    "  area_rec(15,7)"
   ]
  },
  {
   "cell_type": "code",
   "execution_count": 9,
   "id": "66b1b18e",
   "metadata": {},
   "outputs": [],
   "source": [
    "# Passing Values"
   ]
  },
  {
   "cell_type": "code",
   "execution_count": 12,
   "id": "b16a4321",
   "metadata": {},
   "outputs": [
    {
     "name": "stdout",
     "output_type": "stream",
     "text": [
      "The passed name is John Stone\n",
      "The new name is this funtion is Harry Potter\n"
     ]
    }
   ],
   "source": [
    "def change_name(name):\n",
    "    print(\"The passed name is {}\".format(name))\n",
    "    #change the name\n",
    "    name = \"Harry Potter\"\n",
    "    print(\"The new name is this funtion is {}\".format(name))\n",
    "    return\n",
    "#call the function\n",
    "name = \"John Stone\"\n",
    "change_name(name)"
   ]
  },
  {
   "cell_type": "code",
   "execution_count": null,
   "id": "f85e22a8",
   "metadata": {},
   "outputs": [],
   "source": []
  }
 ],
 "metadata": {
  "kernelspec": {
   "display_name": "Python 3 (ipykernel)",
   "language": "python",
   "name": "python3"
  },
  "language_info": {
   "codemirror_mode": {
    "name": "ipython",
    "version": 3
   },
   "file_extension": ".py",
   "mimetype": "text/x-python",
   "name": "python",
   "nbconvert_exporter": "python",
   "pygments_lexer": "ipython3",
   "version": "3.11.5"
  }
 },
 "nbformat": 4,
 "nbformat_minor": 5
}
